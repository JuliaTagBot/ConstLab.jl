{
 "cells": [
  {
   "cell_type": "code",
   "execution_count": 1,
   "metadata": {
    "collapsed": false
   },
   "outputs": [
    {
     "data": {
      "text/plain": [
       "Plots.PyPlotPackage()"
      ]
     },
     "execution_count": 1,
     "metadata": {},
     "output_type": "execute_result"
    }
   ],
   "source": [
    "using ConstLab\n",
    "using Plots\n",
    "pyplot!()"
   ]
  },
  {
   "cell_type": "code",
   "execution_count": 2,
   "metadata": {
    "collapsed": false
   },
   "outputs": [
    {
     "data": {
      "text/plain": [
       "compute_residual (generic function with 1 method)"
      ]
     },
     "execution_count": 2,
     "metadata": {},
     "output_type": "execute_result"
    }
   ],
   "source": [
    "include(\"mises_mixed_hardening.jl\")"
   ]
  },
  {
   "cell_type": "markdown",
   "metadata": {},
   "source": [
    "### Parameters"
   ]
  },
  {
   "cell_type": "code",
   "execution_count": 3,
   "metadata": {
    "collapsed": false
   },
   "outputs": [
    {
     "data": {
      "text/plain": [
       "MisesMixedHardMP\n",
       "  E: 2.0e11\n",
       "  ν: 0.3\n",
       "  σy: 2.0e8\n",
       "  H: 2.0e10\n",
       "  r: 0.5\n",
       "  κ_∞: 2.0e7\n",
       "  α_∞: 2.0e7"
      ]
     },
     "execution_count": 3,
     "metadata": {},
     "output_type": "execute_result"
    }
   ],
   "source": [
    "E = 200.0 * 10^9\n",
    "ν =  0.3\n",
    "σy =  200.0*10^6\n",
    "H = 0.1 * 200*10^9\n",
    "κ_∞ = 0.1 * σy\n",
    "α_∞ = 0.1 * σy\n",
    "r = 0.5\n",
    "mp = MisesMixedHardMP(E, ν, σy, H, r, κ_∞, α_∞)"
   ]
  },
  {
   "cell_type": "markdown",
   "metadata": {},
   "source": [
    "### Material Status"
   ]
  },
  {
   "cell_type": "code",
   "execution_count": 4,
   "metadata": {
    "collapsed": false
   },
   "outputs": [
    {
     "data": {
      "text/plain": [
       "MisesMixedHardMS\n",
       "  n_ε_p: [0.0,0.0,0.0,0.0,0.0,0.0]\n",
       "  n_α_dev: [0.0,0.0,0.0,0.0,0.0,0.0]\n",
       "  n_κ: 0.0\n",
       "  n_μ: 0.0"
      ]
     },
     "execution_count": 4,
     "metadata": {},
     "output_type": "execute_result"
    }
   ],
   "source": [
    "ms = MisesMixedHardMS()"
   ]
  },
  {
   "cell_type": "markdown",
   "metadata": {},
   "source": [
    "### Load case: Plain Strain"
   ]
  },
  {
   "cell_type": "code",
   "execution_count": 5,
   "metadata": {
    "collapsed": false
   },
   "outputs": [],
   "source": [
    "tend = 1.0\n",
    "ts = collect(linspace(0, tend, 100))\n",
    "ε_max = 0.01\n",
    "εs_pstrain, σs_pstrain, ε_control_pstrain = loadcase(:uniaxial_strain, ε_max, ts);"
   ]
  },
  {
   "cell_type": "code",
   "execution_count": 6,
   "metadata": {
    "collapsed": false
   },
   "outputs": [],
   "source": [
    "εs_res_pstrain, σs_res_pstrain, matstats = driver(ms, mp, ts, εs_pstrain, \n",
    "σs_pstrain, ε_control_pstrain);"
   ]
  },
  {
   "cell_type": "markdown",
   "metadata": {},
   "source": [
    "### Load case: Plain Uniaxial stress"
   ]
  },
  {
   "cell_type": "code",
   "execution_count": 7,
   "metadata": {
    "collapsed": false
   },
   "outputs": [],
   "source": [
    "ts = collect(linspace(0, 1, 100))\n",
    "ε_max = 0.01\n",
    "εs_pstress, σs_pstress, ε_control_pstress = loadcase(:uniaxial_stress, ε_max, ts);\n",
    "εs_res_pstress, σs_res_pstress, matstats = driver(ms, mp, ts, εs_pstress, \n",
    "                                                  σs_pstress, ε_control_pstress, ftol = 1e-5);"
   ]
  },
  {
   "cell_type": "markdown",
   "metadata": {},
   "source": [
    "### Plotting"
   ]
  },
  {
   "cell_type": "code",
   "execution_count": 8,
   "metadata": {
    "collapsed": false
   },
   "outputs": [
    {
     "data": {
      "text/plain": [
       "vm (generic function with 1 method)"
      ]
     },
     "execution_count": 8,
     "metadata": {},
     "output_type": "execute_result"
    }
   ],
   "source": [
    "const Idev6 = 1/3 * Float64[  2    -1    -1     0     0     0;\n",
    "                            -1     2    -1     0     0     0;\n",
    "                            -1    -1     2     0     0     0;\n",
    "                             0     0     0     3     0     0;\n",
    "                             0     0     0     0     3     0;\n",
    "                             0     0     0     0     0     3]\n",
    "function vm(x)\n",
    "    x = Idev6 * x\n",
    "    sqrt(3/2) * sqrt(x[1]^2 + x[2]^2 + x[3]^2 + (2x[4])^2 + (2x[5])^2 + (2x[6])^2)\n",
    "end"
   ]
  },
  {
   "cell_type": "code",
   "execution_count": 30,
   "metadata": {
    "collapsed": false,
    "scrolled": false
   },
   "outputs": [
    {
     "data": {
      "image/png": "[encoded data removed]",
      "text/plain": [
       "PyPlot.Figure(PyObject <matplotlib.figure.Figure object at 0x7f546c9a6150>)"
      ]
     },
     "metadata": {},
     "output_type": "display_data"
    },
    {
     "data": {
      "text/plain": [
       "Plot{Plots.PyPlotPackage() n=3}"
      ]
     },
     "execution_count": 30,
     "metadata": {},
     "output_type": "execute_result"
    }
   ],
   "source": [
    "p = plot(εs_res_pstrain, σs_res_pstrain, matstats; x_mod = 1, y_mod = vm)\n",
    "p = plot!(p, εs_res_pstress, σs_res_pstress, matstats; x_mod = 1, y_mod = vm)\n",
    "plot!(vec(εs_res_pstress[1,:]), vec((mp.κ_∞ + mp.α_∞ + mp.σy) * ones(ts)), matstats; x_mod = 1, y_mod = 1)"
   ]
  }
 ],
 "metadata": {
  "kernelspec": {
   "display_name": "Julia 0.4.0-pre",
   "language": "julia",
   "name": "julia-0.4"
  },
  "language_info": {
   "file_extension": ".jl",
   "mimetype": "application/julia",
   "name": "julia",
   "version": "0.4.0"
  }
 },
 "nbformat": 4,
 "nbformat_minor": 0
}
